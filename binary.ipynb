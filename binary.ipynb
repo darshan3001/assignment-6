{
  "nbformat": 4,
  "nbformat_minor": 0,
  "metadata": {
    "colab": {
      "name": "binary",
      "provenance": []
    },
    "kernelspec": {
      "name": "python3",
      "display_name": "Python 3"
    }
  },
  "cells": [
    {
      "cell_type": "code",
      "metadata": {
        "id": "lwLpNCjDPbFO",
        "colab_type": "code",
        "colab": {
          "base_uri": "https://localhost:8080/",
          "height": 50
        },
        "outputId": "28c3ad61-a011-4e8e-fbf1-08cb4bceaa5e"
      },
      "source": [
        "a=list(input(\"enter a binary number:\"))\n",
        "value=0\n",
        "for i in range(len(a)):\n",
        "  digit=a.pop()\n",
        "  if digit=='1':\n",
        "    value=value+pow(2,i)\n",
        "print(\"the decimal value of given binary number is:\",value)"
      ],
      "execution_count": 2,
      "outputs": [
        {
          "output_type": "stream",
          "text": [
            "enter a binary number:10010\n",
            "the decimal value of given binary number is: 18\n"
          ],
          "name": "stdout"
        }
      ]
    },
    {
      "cell_type": "code",
      "metadata": {
        "id": "x5Q7bcthQyan",
        "colab_type": "code",
        "colab": {}
      },
      "source": [
        ""
      ],
      "execution_count": null,
      "outputs": []
    }
  ]
}