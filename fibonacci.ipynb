{
  "nbformat": 4,
  "nbformat_minor": 0,
  "metadata": {
    "colab": {
      "name": "fibonacci",
      "provenance": []
    },
    "kernelspec": {
      "name": "python3",
      "display_name": "Python 3"
    }
  },
  "cells": [
    {
      "cell_type": "code",
      "metadata": {
        "id": "KkYG5lRTi6KL",
        "colab_type": "code",
        "colab": {
          "base_uri": "https://localhost:8080/",
          "height": 50
        },
        "outputId": "3d07e6ce-411c-4f46-ce56-44c7b9ffa6e6"
      },
      "source": [
        "a=int(input(\"enter no. of terms:\"))\n",
        "f=0\n",
        "s=1\n",
        "if a<=0:\n",
        "  print(\"the requested seriws is:\",f)\n",
        "else:\n",
        "  print(f,s,end=\" \")\n",
        "  for x in range(2,a):\n",
        "    next=f+s\n",
        "    print(next,end=\" \")\n",
        "    f=s\n",
        "    s=next"
      ],
      "execution_count": 1,
      "outputs": [
        {
          "output_type": "stream",
          "text": [
            "enter no. of terms:5\n",
            "0 1 1 2 3 "
          ],
          "name": "stdout"
        }
      ]
    },
    {
      "cell_type": "code",
      "metadata": {
        "id": "ApJuUdJGlMAT",
        "colab_type": "code",
        "colab": {}
      },
      "source": [
        ""
      ],
      "execution_count": null,
      "outputs": []
    }
  ]
}